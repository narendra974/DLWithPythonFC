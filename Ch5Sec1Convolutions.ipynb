{
 "cells": [
  {
   "cell_type": "markdown",
   "id": "collectible-transcript",
   "metadata": {},
   "source": [
    "# Section 5.1 in the book 'Deeplearning with Python\" by Francois Challet\n",
    "\n",
    "  1. CONVOLUTION \n",
    "  2. MAX POOLING  \n",
    "  3. FEATURE MAPS"
   ]
  },
  {
   "cell_type": "markdown",
   "id": "greek-static",
   "metadata": {},
   "source": [
    "### 1. Model Convolutional Network\n",
    "\n",
    "   Convnet taks input tensor of shape (image_height, image_width, number_channel) as input. \\\n",
    "   MNIST Images are of the shape (28, 28) so we reshape them to (28, 28, 1) \\\n",
    "   output of every convnet and MaxPooling is a 3D tensor of shape (height, width, channels) \\\n",
    "   number_channel is controlled by the number of filters in the Conv2D Layer."
   ]
  },
  {
   "cell_type": "code",
   "execution_count": 15,
   "id": "thick-chosen",
   "metadata": {},
   "outputs": [
    {
     "name": "stdout",
     "output_type": "stream",
     "text": [
      "Model: \"sequential_6\"\n",
      "_________________________________________________________________\n",
      "Layer (type)                 Output Shape              Param #   \n",
      "=================================================================\n",
      "conv2d_18 (Conv2D)           (None, 26, 26, 32)        320       \n",
      "_________________________________________________________________\n",
      "max_pooling2d_4 (MaxPooling2 (None, 13, 13, 32)        0         \n",
      "_________________________________________________________________\n",
      "conv2d_19 (Conv2D)           (None, 11, 11, 64)        18496     \n",
      "_________________________________________________________________\n",
      "max_pooling2d_5 (MaxPooling2 (None, 5, 5, 64)          0         \n",
      "_________________________________________________________________\n",
      "conv2d_20 (Conv2D)           (None, 3, 3, 64)          36928     \n",
      "_________________________________________________________________\n",
      "flatten_3 (Flatten)          (None, 576)               0         \n",
      "_________________________________________________________________\n",
      "dense_6 (Dense)              (None, 64)                36928     \n",
      "_________________________________________________________________\n",
      "dense_7 (Dense)              (None, 10)                650       \n",
      "=================================================================\n",
      "Total params: 93,322\n",
      "Trainable params: 93,322\n",
      "Non-trainable params: 0\n",
      "_________________________________________________________________\n"
     ]
    }
   ],
   "source": [
    "import tensorflow as tf\n",
    "from tensorflow.keras import layers\n",
    "from tensorflow.keras import models\n",
    "\n",
    "model = models.Sequential()\n",
    "model.add(layers.Conv2D(32, (3, 3), activation='relu', input_shape=(28, 28, 1)))\n",
    "model.add(layers.MaxPooling2D((2, 2)))\n",
    "model.add(layers.Conv2D(64, (3,3), activation='relu'))\n",
    "model.add(layers.MaxPooling2D(2,2))\n",
    "model.add(layers.Conv2D(64, (3, 3), activation='relu'))\n",
    "\n",
    "model.add(layers.Flatten())\n",
    "model.add(layers.Dense(64, activation='relu'))\n",
    "model.add(layers.Dense(10, activation='softmax'))\n",
    "model.summary()"
   ]
  },
  {
   "cell_type": "markdown",
   "id": "charming-anime",
   "metadata": {},
   "source": [
    "### 2. Training the ConvNet on MNIST Images.\n",
    "\n",
    "    Dense Layers learn Gloabal Patterns. \n",
    "    Convolution Layers learn Local Patterns. \n",
    "    \n",
    "    KeyCharacteristics of the Convolutional Layers.\n",
    "    1. Patterns they learn are translational - invariant.\n",
    "        After learning a pattern at one location, same pattern can be identified\n",
    "        by the conv layer anywhere in the image\n",
    "    2. They can learn spatial hierarchial of patterns. \n",
    "        Initial Layers learn the Edges, Texture and other properties.\n",
    "        Higher Layers learn the ear shape, eye shape and all.\n",
    "        \n",
    "    ConvLayer operates over 3D tensor called 'FEATURE' maps, \n",
    "    with two 'SPATIAL' axes (height and width) and one 'CHANNEL' axis.\n",
    "    \n",
    "    Convolution takes a feature map and gives a feature map with \n",
    "    channel axis represent number of filters in the convolutional Layer. \n",
    "    \n",
    "    RESPONSE MAP : 2D map of the presence of a pattern at different locations of a map.\n",
    "    FEATURE MAP : every dimension in the depth axis is a feature map. \n",
    "    2D tensor output[:, :, n] is the 2D SPATIAL MAP of the response of this filter over the input."
   ]
  },
  {
   "cell_type": "code",
   "execution_count": 16,
   "id": "intellectual-singer",
   "metadata": {},
   "outputs": [
    {
     "name": "stdout",
     "output_type": "stream",
     "text": [
      "(60000, 28, 28)\n",
      "(60000,)\n",
      "(10000, 28, 28)\n",
      "(60000,)\n",
      "Epoch 1/5\n",
      "938/938 [==============================] - 37s 38ms/step - loss: 0.4133 - accuracy: 0.8677\n",
      "Epoch 2/5\n",
      "938/938 [==============================] - 38s 41ms/step - loss: 0.0510 - accuracy: 0.9835\n",
      "Epoch 3/5\n",
      "938/938 [==============================] - 40s 42ms/step - loss: 0.0322 - accuracy: 0.9901\n",
      "Epoch 4/5\n",
      "938/938 [==============================] - 40s 42ms/step - loss: 0.0237 - accuracy: 0.9923\n",
      "Epoch 5/5\n",
      "938/938 [==============================] - 42s 45ms/step - loss: 0.0195 - accuracy: 0.9938\n"
     ]
    },
    {
     "data": {
      "text/plain": [
       "<tensorflow.python.keras.callbacks.History at 0x7f86ee12b430>"
      ]
     },
     "execution_count": 16,
     "metadata": {},
     "output_type": "execute_result"
    }
   ],
   "source": [
    "from tensorflow.keras.datasets import mnist\n",
    "from tensorflow.keras.utils import to_categorical\n",
    "\n",
    "(train_images, train_labels), (test_images, test_labels) = mnist.load_data()\n",
    "\n",
    "print(train_images.shape)\n",
    "print(train_labels.shape)\n",
    "print(test_images.shape)\n",
    "print(train_labels.shape)\n",
    "\n",
    "train_images = train_images.reshape((60000, 28, 28, 1))\n",
    "train_images = train_images.astype('float32') / 255\n",
    "\n",
    "test_images = test_images.reshape((10000, 28, 28, 1))\n",
    "test_images = test_images.astype('float32') / 255\n",
    "\n",
    "train_labels = to_categorical(train_labels)\n",
    "test_labels = to_categorical(test_labels)\n",
    "\n",
    "model.compile(optimizer='rmsprop', loss='categorical_crossentropy', \n",
    "            metrics=['accuracy'])\n",
    "model.fit(train_images, train_labels, epochs=5, batch_size=64)"
   ]
  },
  {
   "cell_type": "markdown",
   "id": "peaceful-closure",
   "metadata": {},
   "source": [
    "### 3. MAXPOOLING OPERATION.\n",
    "\n",
    "    Max Pooling consists of extracting windows from the input feature maps and outputting \n",
    "    the max value of each channel. \n",
    "    Max Polling is usually done with 2X2 window and Convolution is done with 3X3 Window.\n",
    "    \n",
    "    Let us consider removing the MaxPooling layer and check the Model once as shown below. \n",
    "    \n",
    "    There are problems associated with the model\n",
    "    \n",
    "         1.  Third Layer feature 3X3 is only from the 7X7 window of the input image. \n",
    "             So it does not represent the spatial hierarchy which is the advantage of the Convolutional Layer.\n",
    "         2.  final feature map has 36928 parameters associated with it.\n",
    "             when converted into dense layer it will take around 15860224 parameters. \n",
    "             This is too big for a small network and would lead to overfitting"
   ]
  },
  {
   "cell_type": "code",
   "execution_count": 17,
   "id": "faced-wedding",
   "metadata": {},
   "outputs": [
    {
     "name": "stdout",
     "output_type": "stream",
     "text": [
      "Model: \"sequential_7\"\n",
      "_________________________________________________________________\n",
      "Layer (type)                 Output Shape              Param #   \n",
      "=================================================================\n",
      "conv2d_21 (Conv2D)           (None, 26, 26, 32)        320       \n",
      "_________________________________________________________________\n",
      "conv2d_22 (Conv2D)           (None, 24, 24, 64)        18496     \n",
      "_________________________________________________________________\n",
      "conv2d_23 (Conv2D)           (None, 22, 22, 64)        36928     \n",
      "_________________________________________________________________\n",
      "flatten_4 (Flatten)          (None, 30976)             0         \n",
      "_________________________________________________________________\n",
      "dense_8 (Dense)              (None, 512)               15860224  \n",
      "_________________________________________________________________\n",
      "dense_9 (Dense)              (None, 10)                5130      \n",
      "=================================================================\n",
      "Total params: 15,921,098\n",
      "Trainable params: 15,921,098\n",
      "Non-trainable params: 0\n",
      "_________________________________________________________________\n"
     ]
    }
   ],
   "source": [
    "model_no_max_pool = models.Sequential()\n",
    "\n",
    "model_no_max_pool.add(layers.Conv2D(32, (3, 3), activation='relu', input_shape=(28, 28, 1)))\n",
    "model_no_max_pool.add(layers.Conv2D(64, (3,3), activation='relu'))\n",
    "model_no_max_pool.add(layers.Conv2D(64, (3, 3), activation='relu'))\n",
    "\n",
    "model_no_max_pool.add(layers.Flatten())\n",
    "model_no_max_pool.add(layers.Dense(512, activation='relu'))\n",
    "model_no_max_pool.add(layers.Dense(10, activation='softmax'))\n",
    "\n",
    "\n",
    "model_no_max_pool.summary()"
   ]
  },
  {
   "cell_type": "markdown",
   "id": "indirect-sacrifice",
   "metadata": {},
   "source": [
    " "
   ]
  }
 ],
 "metadata": {
  "kernelspec": {
   "display_name": "Python 3",
   "language": "python",
   "name": "python3"
  },
  "language_info": {
   "codemirror_mode": {
    "name": "ipython",
    "version": 3
   },
   "file_extension": ".py",
   "mimetype": "text/x-python",
   "name": "python",
   "nbconvert_exporter": "python",
   "pygments_lexer": "ipython3",
   "version": "3.8.5"
  }
 },
 "nbformat": 4,
 "nbformat_minor": 5
}
