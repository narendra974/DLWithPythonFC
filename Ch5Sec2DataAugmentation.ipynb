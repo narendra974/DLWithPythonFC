{
 "cells": [
  {
   "cell_type": "code",
   "execution_count": 1,
   "id": "promising-explorer",
   "metadata": {},
   "outputs": [
    {
     "name": "stdout",
     "output_type": "stream",
     "text": [
      "2.4.1\n"
     ]
    }
   ],
   "source": [
    "import tensorflow as tf\n",
    "try:\n",
    "  # %tensorflow_version only exists in Colab.\n",
    "  %tensorflow_version 2.x\n",
    "except Exception:\n",
    "  pass\n",
    "\n",
    "print(tf.__version__)"
   ]
  },
  {
   "cell_type": "markdown",
   "id": "third-patent",
   "metadata": {},
   "source": [
    "# Section 5.2 in the book 'Deeplearning with Python\" by Francois Challet\n",
    "\n",
    "  1. CONVOLUTION LAYER TO CLASSIFY DOGS VS CATS.\n",
    "  2. DATA AUGMENTATION TECHNIQUE TO OVERCOME OVER-FITTING.\n",
    "  \n",
    "  CATS - DOGS DATA HAS TO BE TAKEN FROM : https://www.kaggle.com/c/dogs-vs-cats \\\n",
    "  data/train/cats - 1000 cat images \\\n",
    "  data/train/dogs - 1000 dog images \\\n",
    "  data/validation/cats - 500 cat images \\\n",
    "  data/validation/dogs - 500 dog images \\\n",
    "  data/test/cats - 500 cat images \\\n",
    "  data/test/dogs - 500 dog images"
   ]
  },
  {
   "cell_type": "code",
   "execution_count": 2,
   "id": "invalid-division",
   "metadata": {},
   "outputs": [
    {
     "name": "stdout",
     "output_type": "stream",
     "text": [
      "Total CAT training images  1000\n",
      "Total DOG training images  1000\n",
      "Total CAT test images  500\n",
      "Total DOG test images  500\n",
      "Total CAT validation images  500\n",
      "Total DOG training images  500\n"
     ]
    }
   ],
   "source": [
    "import os, shutil\n",
    "\n",
    "base_dir = './DATA/CATS_DOGS'\n",
    "\n",
    "train_dir = os.path.join(base_dir, 'train')\n",
    "train_cat_dir = os.path.join(train_dir, 'cats')\n",
    "train_dog_dir = os.path.join(train_dir, 'dogs')\n",
    "test_dir = os.path.join(base_dir, 'test')\n",
    "test_cat_dir = os.path.join(test_dir, 'cats')\n",
    "test_dog_dir = os.path.join(test_dir, 'dogs')\n",
    "val_dir = os.path.join(base_dir, 'validation')\n",
    "val_cat_dir = os.path.join(val_dir, 'cats')\n",
    "val_dog_dir = os.path.join(val_dir, 'dogs')\n",
    "\n",
    "print('Total CAT training images ', len(os.listdir(train_cat_dir)))\n",
    "print('Total DOG training images ' , len(os.listdir(train_dog_dir)))\n",
    "print('Total CAT test images ', len(os.listdir(test_cat_dir)))\n",
    "print('Total DOG test images ' , len(os.listdir(test_dog_dir)))\n",
    "print('Total CAT validation images ' , len(os.listdir(val_cat_dir)))\n",
    "print('Total DOG training images ', len(os.listdir(val_dog_dir)))"
   ]
  },
  {
   "cell_type": "markdown",
   "id": "liable-custom",
   "metadata": {},
   "source": [
    "### 1. CLASSIFICATION CONVOLUTIONAL NETWORK\n",
    "\n",
    "   The Depth of the feature maps progressively increases in the network (from 32 to 128) \\\n",
    "   Where as the size of the feature maps decreases (from 148 X 148 X 7 X 7).\n",
    "   "
   ]
  },
  {
   "cell_type": "code",
   "execution_count": 3,
   "id": "united-liability",
   "metadata": {},
   "outputs": [
    {
     "name": "stdout",
     "output_type": "stream",
     "text": [
      "Model: \"sequential\"\n",
      "_________________________________________________________________\n",
      "Layer (type)                 Output Shape              Param #   \n",
      "=================================================================\n",
      "conv2d (Conv2D)              (None, 148, 148, 32)      896       \n",
      "_________________________________________________________________\n",
      "max_pooling2d (MaxPooling2D) (None, 74, 74, 32)        0         \n",
      "_________________________________________________________________\n",
      "conv2d_1 (Conv2D)            (None, 72, 72, 64)        18496     \n",
      "_________________________________________________________________\n",
      "max_pooling2d_1 (MaxPooling2 (None, 36, 36, 64)        0         \n",
      "_________________________________________________________________\n",
      "conv2d_2 (Conv2D)            (None, 34, 34, 128)       73856     \n",
      "_________________________________________________________________\n",
      "max_pooling2d_2 (MaxPooling2 (None, 17, 17, 128)       0         \n",
      "_________________________________________________________________\n",
      "conv2d_3 (Conv2D)            (None, 15, 15, 128)       147584    \n",
      "_________________________________________________________________\n",
      "max_pooling2d_3 (MaxPooling2 (None, 7, 7, 128)         0         \n",
      "_________________________________________________________________\n",
      "flatten (Flatten)            (None, 6272)              0         \n",
      "_________________________________________________________________\n",
      "dense (Dense)                (None, 512)               3211776   \n",
      "_________________________________________________________________\n",
      "dense_1 (Dense)              (None, 1)                 513       \n",
      "=================================================================\n",
      "Total params: 3,453,121\n",
      "Trainable params: 3,453,121\n",
      "Non-trainable params: 0\n",
      "_________________________________________________________________\n"
     ]
    }
   ],
   "source": [
    "from tensorflow.keras import layers\n",
    "from tensorflow.keras import models\n",
    "\n",
    "model = models.Sequential()\n",
    "model.add(layers.Conv2D(32, (3, 3), activation='relu', input_shape=(150, 150, 3)))\n",
    "model.add(layers.MaxPooling2D((2, 2)))\n",
    "model.add(layers.Conv2D(64, (3, 3), activation='relu'))\n",
    "model.add(layers.MaxPooling2D((2, 2)))\n",
    "model.add(layers.Conv2D(128, (3, 3), activation='relu'))\n",
    "model.add(layers.MaxPooling2D((2, 2)))\n",
    "model.add(layers.Conv2D(128, (3, 3), activation='relu'))\n",
    "model.add(layers.MaxPooling2D((2, 2)))\n",
    "\n",
    "model.add(layers.Flatten())\n",
    "model.add(layers.Dense(512, activation='relu'))\n",
    "model.add(layers.Dense(1, activation='sigmoid'))\n",
    "\n",
    "model.summary()"
   ]
  },
  {
   "cell_type": "markdown",
   "id": "sunrise-drunk",
   "metadata": {},
   "source": [
    "### 2. Configuring the model for Training\n",
    "\n",
    "    1. We shall use the RMSprop Optimizer. \n",
    "    2. We shall use binary cross entropy as the loss.\n",
    "    3. And the learning rate is (lr = 1e-4)\n",
    "    "
   ]
  },
  {
   "cell_type": "code",
   "execution_count": 4,
   "id": "scheduled-panic",
   "metadata": {},
   "outputs": [],
   "source": [
    "from tensorflow.keras import optimizers\n",
    "\n",
    "model.compile(loss='binary_crossentropy', optimizer=optimizers.RMSprop(lr=1e-4), metrics=['acc'])\n"
   ]
  },
  {
   "cell_type": "markdown",
   "id": "single-lighting",
   "metadata": {},
   "source": [
    "### 3. DATA PREPROCESSING OF THE IMAGE FILES.\n",
    "\n",
    "    1. Read the Images Files.\n",
    "    2. Decode the JPEG content to RGB grids of pixels.\n",
    "    3. Convert these into floating-point tensors.\n",
    "    4. Rescale the pixel values (between 0 to 255) to [0, 1] interval.\n",
    "    \n",
    "    All the above functionalities are done by the ImageDataGenerator."
   ]
  },
  {
   "cell_type": "code",
   "execution_count": 5,
   "id": "vulnerable-irish",
   "metadata": {},
   "outputs": [
    {
     "name": "stdout",
     "output_type": "stream",
     "text": [
      "Found 2000 images belonging to 2 classes.\n",
      "Found 1000 images belonging to 2 classes.\n",
      "data batch shape  (20, 150, 150, 3)\n",
      "data labels batch shape  (20,)\n"
     ]
    }
   ],
   "source": [
    "from tensorflow.keras.preprocessing.image import ImageDataGenerator\n",
    "\n",
    "train_datagen = ImageDataGenerator(rescale = 1./255)\n",
    "val_datagen = ImageDataGenerator(rescale = 1./255)\n",
    "\n",
    "train_generator = train_datagen.flow_from_directory(train_dir, target_size = (150, 150), batch_size=20,\n",
    "                                                    class_mode='binary')\n",
    "val_generator = val_datagen.flow_from_directory(val_dir, target_size = (150, 150), batch_size=20,\n",
    "                                                    class_mode='binary')\n",
    "\n",
    "for data_batch, labels_batch in train_generator:\n",
    "    print('data batch shape ', data_batch.shape)\n",
    "    print('data labels batch shape ', labels_batch.shape)\n",
    "    break;"
   ]
  },
  {
   "cell_type": "markdown",
   "id": "metropolitan-contract",
   "metadata": {},
   "source": [
    "### 4. Running the Model. \n",
    "    \n",
    "    Saving the Model using the model.sava function.\n",
    "    One thing to remember is that when we give the steps_per_epoch \n",
    "    and validation_steps, which tells the process how many batches to draw from the\n",
    "    train_generator and validation_generator"
   ]
  },
  {
   "cell_type": "code",
   "execution_count": 10,
   "id": "welsh-oakland",
   "metadata": {
    "scrolled": true
   },
   "outputs": [
    {
     "name": "stdout",
     "output_type": "stream",
     "text": [
      "Epoch 1/30\n",
      "100/100 [==============================] - 71s 708ms/step - loss: 0.6480 - acc: 0.6340 - val_loss: 0.6500 - val_acc: 0.6060\n",
      "Epoch 2/30\n",
      "100/100 [==============================] - 78s 776ms/step - loss: 0.6071 - acc: 0.6830 - val_loss: 0.6033 - val_acc: 0.6890\n",
      "Epoch 3/30\n",
      "100/100 [==============================] - 94s 940ms/step - loss: 0.5683 - acc: 0.7140 - val_loss: 0.5889 - val_acc: 0.6930\n",
      "Epoch 4/30\n",
      "100/100 [==============================] - 93s 925ms/step - loss: 0.5341 - acc: 0.7340 - val_loss: 0.6515 - val_acc: 0.6420\n",
      "Epoch 5/30\n",
      "100/100 [==============================] - 74s 739ms/step - loss: 0.5033 - acc: 0.7475 - val_loss: 0.5502 - val_acc: 0.7220\n",
      "Epoch 6/30\n",
      "100/100 [==============================] - 71s 713ms/step - loss: 0.4750 - acc: 0.7765 - val_loss: 0.5620 - val_acc: 0.7020\n",
      "Epoch 7/30\n",
      "100/100 [==============================] - 79s 790ms/step - loss: 0.4481 - acc: 0.7895 - val_loss: 0.5345 - val_acc: 0.7180\n",
      "Epoch 8/30\n",
      "100/100 [==============================] - 69s 686ms/step - loss: 0.4211 - acc: 0.8060 - val_loss: 0.5295 - val_acc: 0.7420\n",
      "Epoch 9/30\n",
      "100/100 [==============================] - 68s 676ms/step - loss: 0.3989 - acc: 0.8165 - val_loss: 0.6229 - val_acc: 0.6850\n",
      "Epoch 10/30\n",
      "100/100 [==============================] - 75s 753ms/step - loss: 0.3733 - acc: 0.8435 - val_loss: 0.5367 - val_acc: 0.7270\n",
      "Epoch 11/30\n",
      "100/100 [==============================] - 79s 789ms/step - loss: 0.3493 - acc: 0.8495 - val_loss: 0.5419 - val_acc: 0.7430\n",
      "Epoch 12/30\n",
      "100/100 [==============================] - 73s 728ms/step - loss: 0.3241 - acc: 0.8630 - val_loss: 0.6638 - val_acc: 0.6930\n",
      "Epoch 13/30\n",
      "100/100 [==============================] - 78s 780ms/step - loss: 0.2954 - acc: 0.8865 - val_loss: 0.5448 - val_acc: 0.7430\n",
      "Epoch 14/30\n",
      "100/100 [==============================] - 75s 752ms/step - loss: 0.2866 - acc: 0.8745 - val_loss: 0.5792 - val_acc: 0.7260\n",
      "Epoch 15/30\n",
      "100/100 [==============================] - 107s 1s/step - loss: 0.2555 - acc: 0.8935 - val_loss: 0.5939 - val_acc: 0.7510\n",
      "Epoch 16/30\n",
      "100/100 [==============================] - 90s 898ms/step - loss: 0.2381 - acc: 0.9010 - val_loss: 0.6032 - val_acc: 0.7370\n",
      "Epoch 17/30\n",
      "100/100 [==============================] - 68s 677ms/step - loss: 0.2176 - acc: 0.9125 - val_loss: 0.5948 - val_acc: 0.7380\n",
      "Epoch 18/30\n",
      "100/100 [==============================] - 68s 678ms/step - loss: 0.1951 - acc: 0.9330 - val_loss: 0.6229 - val_acc: 0.7340\n",
      "Epoch 19/30\n",
      "100/100 [==============================] - 68s 676ms/step - loss: 0.1791 - acc: 0.9365 - val_loss: 0.6107 - val_acc: 0.7440\n",
      "Epoch 20/30\n",
      "100/100 [==============================] - 68s 678ms/step - loss: 0.1501 - acc: 0.9445 - val_loss: 0.6815 - val_acc: 0.7260\n",
      "Epoch 21/30\n",
      "100/100 [==============================] - 68s 675ms/step - loss: 0.1504 - acc: 0.9435 - val_loss: 0.7240 - val_acc: 0.7310\n",
      "Epoch 22/30\n",
      "100/100 [==============================] - 70s 696ms/step - loss: 0.1234 - acc: 0.9620 - val_loss: 0.6961 - val_acc: 0.7570\n",
      "Epoch 23/30\n",
      "100/100 [==============================] - 68s 680ms/step - loss: 0.1108 - acc: 0.9620 - val_loss: 0.7440 - val_acc: 0.7480\n",
      "Epoch 24/30\n",
      "100/100 [==============================] - 68s 677ms/step - loss: 0.1009 - acc: 0.9660 - val_loss: 0.6906 - val_acc: 0.7560\n",
      "Epoch 25/30\n",
      "100/100 [==============================] - 68s 676ms/step - loss: 0.0909 - acc: 0.9720 - val_loss: 0.7792 - val_acc: 0.7300\n",
      "Epoch 26/30\n",
      "100/100 [==============================] - 70s 697ms/step - loss: 0.0800 - acc: 0.9760 - val_loss: 0.7832 - val_acc: 0.7460\n",
      "Epoch 27/30\n",
      "100/100 [==============================] - 68s 680ms/step - loss: 0.0653 - acc: 0.9785 - val_loss: 0.8139 - val_acc: 0.7400\n",
      "Epoch 28/30\n",
      "100/100 [==============================] - 74s 739ms/step - loss: 0.0514 - acc: 0.9900 - val_loss: 0.9984 - val_acc: 0.7360\n",
      "Epoch 29/30\n",
      "100/100 [==============================] - 69s 689ms/step - loss: 0.0517 - acc: 0.9865 - val_loss: 0.9013 - val_acc: 0.7510\n",
      "Epoch 30/30\n",
      "100/100 [==============================] - 69s 689ms/step - loss: 0.0441 - acc: 0.9885 - val_loss: 0.9113 - val_acc: 0.7460\n"
     ]
    }
   ],
   "source": [
    "history = model.fit_generator(\n",
    "                train_generator, steps_per_epoch=100, epochs=30, \n",
    "                validation_data = val_generator, validation_steps=50)\n",
    "\n",
    "model.save('cats_dogs_small_1.h5')"
   ]
  },
  {
   "cell_type": "markdown",
   "id": "interpreted-wallace",
   "metadata": {},
   "source": [
    "### 4. LOSS AND ACCURACY CURVES.\n",
    "    \n",
    "    Displaying Loss and Accuracy Curves during training.\n",
    "    If you close look at the plots you can observe that \n",
    "    TRAINING ACCURACY INCREASE's AND VALIDATION ACCURACY stalls at 0.70 and 0.75\n",
    "    TRAINING LOSS DECREASES AND VALIDATION LOSS KEEPS ON INCREASING. \n",
    "    \n",
    "    This plots indicates that Model is overfitting."
   ]
  },
  {
   "cell_type": "code",
   "execution_count": 14,
   "id": "retired-chile",
   "metadata": {},
   "outputs": [
    {
     "data": {
      "text/plain": [
       "<function matplotlib.pyplot.show(close=None, block=None)>"
      ]
     },
     "execution_count": 14,
     "metadata": {},
     "output_type": "execute_result"
    },
    {
     "data": {
      "image/png": "[encoded data removed]",
      "text/plain": [
       "<Figure size 432x288 with 1 Axes>"
      ]
     },
     "metadata": {
      "needs_background": "light"
     },
     "output_type": "display_data"
    },
    {
     "data": {
      "image/png": "[encoded data removed]",
      "text/plain": [
       "<Figure size 432x288 with 1 Axes>"
      ]
     },
     "metadata": {
      "needs_background": "light"
     },
     "output_type": "display_data"
    }
   ],
   "source": [
    "import matplotlib.pyplot as plt\n",
    "\n",
    "acc = history.history['acc']\n",
    "val_acc = history.history['val_acc']\n",
    "loss = history.history['loss']\n",
    "val_loss = history.history['val_loss']\n",
    "\n",
    "epochs = range(1, len(acc) + 1)\n",
    "\n",
    "plt.plot(epochs, acc, 'bo', label='Training acc')\n",
    "plt.plot(epochs, val_acc, 'b', label='Validation acc')\n",
    "plt.title(\"Traininga and Validation Accuracy\")\n",
    "plt.legend()\n",
    "\n",
    "# to plot it in a new figure.\n",
    "plt.figure()\n",
    "\n",
    "plt.plot(epochs, loss, 'bo', label='Training loss')\n",
    "plt.plot(epochs, val_loss, 'b', label='Validation Loss')\n",
    "plt.title(\"Traininga and Validation Loss\")\n",
    "plt.legend()\n",
    "\n",
    "plt.show"
   ]
  },
  {
   "cell_type": "markdown",
   "id": "fewer-beginning",
   "metadata": {},
   "source": [
    "### 4. DATA AUGMENTATION & DROP OUT LAYER.\n",
    "    \n",
    "    To overcome fitting two methods are followed. \n",
    "    1. Introduce new images by rotation/flitting, ImageDataGenrator API can provide this functionality.\n",
    "    2. Introduce the Dropout Layer. \n",
    "    3. Compile the model with dropout layer and Fit the model with augmented data."
   ]
  },
  {
   "cell_type": "code",
   "execution_count": 16,
   "id": "productive-drain",
   "metadata": {},
   "outputs": [
    {
     "name": "stdout",
     "output_type": "stream",
     "text": [
      "Model: \"sequential_2\"\n",
      "_________________________________________________________________\n",
      "Layer (type)                 Output Shape              Param #   \n",
      "=================================================================\n",
      "conv2d_8 (Conv2D)            (None, 148, 148, 32)      896       \n",
      "_________________________________________________________________\n",
      "max_pooling2d_8 (MaxPooling2 (None, 74, 74, 32)        0         \n",
      "_________________________________________________________________\n",
      "conv2d_9 (Conv2D)            (None, 72, 72, 64)        18496     \n",
      "_________________________________________________________________\n",
      "max_pooling2d_9 (MaxPooling2 (None, 36, 36, 64)        0         \n",
      "_________________________________________________________________\n",
      "conv2d_10 (Conv2D)           (None, 34, 34, 128)       73856     \n",
      "_________________________________________________________________\n",
      "max_pooling2d_10 (MaxPooling (None, 17, 17, 128)       0         \n",
      "_________________________________________________________________\n",
      "conv2d_11 (Conv2D)           (None, 15, 15, 128)       147584    \n",
      "_________________________________________________________________\n",
      "max_pooling2d_11 (MaxPooling (None, 7, 7, 128)         0         \n",
      "_________________________________________________________________\n",
      "flatten_2 (Flatten)          (None, 6272)              0         \n",
      "_________________________________________________________________\n",
      "dropout (Dropout)            (None, 6272)              0         \n",
      "_________________________________________________________________\n",
      "dense_2 (Dense)              (None, 512)               3211776   \n",
      "_________________________________________________________________\n",
      "dense_3 (Dense)              (None, 1)                 513       \n",
      "=================================================================\n",
      "Total params: 3,453,121\n",
      "Trainable params: 3,453,121\n",
      "Non-trainable params: 0\n",
      "_________________________________________________________________\n"
     ]
    }
   ],
   "source": [
    "from tensorflow.keras import layers\n",
    "from tensorflow.keras import models\n",
    "\n",
    "model2 = models.Sequential()\n",
    "model2.add(layers.Conv2D(32, (3, 3), activation='relu', input_shape=(150, 150, 3)))\n",
    "model2.add(layers.MaxPooling2D((2, 2)))\n",
    "model2.add(layers.Conv2D(64, (3, 3), activation='relu'))\n",
    "model2.add(layers.MaxPooling2D((2, 2)))\n",
    "model2.add(layers.Conv2D(128, (3, 3), activation='relu'))\n",
    "model2.add(layers.MaxPooling2D((2, 2)))\n",
    "model2.add(layers.Conv2D(128, (3, 3), activation='relu'))\n",
    "model2.add(layers.MaxPooling2D((2, 2)))\n",
    "\n",
    "model2.add(layers.Flatten())\n",
    "model2.add(layers.Dropout(0.5))\n",
    "model2.add(layers.Dense(512, activation='relu'))\n",
    "model2.add(layers.Dense(1, activation='sigmoid'))\n",
    "\n",
    "model2.summary()"
   ]
  },
  {
   "cell_type": "code",
   "execution_count": 22,
   "id": "weird-winner",
   "metadata": {},
   "outputs": [
    {
     "name": "stdout",
     "output_type": "stream",
     "text": [
      "Found 2000 images belonging to 2 classes.\n",
      "Found 1000 images belonging to 2 classes.\n",
      "Epoch 1/50\n",
      "100/100 [==============================] - 80s 788ms/step - loss: 0.6859 - acc: 0.5683 - val_loss: 0.6702 - val_acc: 0.5860\n",
      "Epoch 2/50\n",
      "100/100 [==============================] - 76s 759ms/step - loss: 0.6741 - acc: 0.5812 - val_loss: 0.6559 - val_acc: 0.6150\n",
      "Epoch 3/50\n",
      "100/100 [==============================] - 85s 851ms/step - loss: 0.6546 - acc: 0.6025 - val_loss: 0.6639 - val_acc: 0.5740\n",
      "Epoch 4/50\n",
      "100/100 [==============================] - 71s 705ms/step - loss: 0.6527 - acc: 0.6047 - val_loss: 0.6524 - val_acc: 0.6090\n",
      "Epoch 5/50\n",
      "100/100 [==============================] - 70s 703ms/step - loss: 0.6294 - acc: 0.6628 - val_loss: 0.6080 - val_acc: 0.6610\n",
      "Epoch 6/50\n",
      "100/100 [==============================] - 70s 700ms/step - loss: 0.6143 - acc: 0.6661 - val_loss: 0.6153 - val_acc: 0.6470\n",
      "Epoch 7/50\n",
      "100/100 [==============================] - 71s 706ms/step - loss: 0.6081 - acc: 0.6775 - val_loss: 0.5871 - val_acc: 0.6840\n",
      "Epoch 8/50\n",
      "100/100 [==============================] - 71s 705ms/step - loss: 0.6076 - acc: 0.6771 - val_loss: 0.5794 - val_acc: 0.6720\n",
      "Epoch 9/50\n",
      "100/100 [==============================] - 71s 705ms/step - loss: 0.6040 - acc: 0.6619 - val_loss: 0.5610 - val_acc: 0.7060\n",
      "Epoch 10/50\n",
      "100/100 [==============================] - 72s 718ms/step - loss: 0.5960 - acc: 0.6717 - val_loss: 0.5482 - val_acc: 0.7190\n",
      "Epoch 11/50\n",
      "100/100 [==============================] - 78s 776ms/step - loss: 0.5937 - acc: 0.6934 - val_loss: 0.6066 - val_acc: 0.6570\n",
      "Epoch 12/50\n",
      "100/100 [==============================] - 75s 746ms/step - loss: 0.6045 - acc: 0.6708 - val_loss: 0.5427 - val_acc: 0.7160\n",
      "Epoch 13/50\n",
      "100/100 [==============================] - 75s 754ms/step - loss: 0.5658 - acc: 0.7033 - val_loss: 0.5608 - val_acc: 0.7010\n",
      "Epoch 14/50\n",
      "100/100 [==============================] - 70s 703ms/step - loss: 0.5606 - acc: 0.6997 - val_loss: 0.7435 - val_acc: 0.6040\n",
      "Epoch 15/50\n",
      "100/100 [==============================] - 80s 797ms/step - loss: 0.5674 - acc: 0.7061 - val_loss: 0.5353 - val_acc: 0.7230\n",
      "Epoch 16/50\n",
      "100/100 [==============================] - 75s 751ms/step - loss: 0.5595 - acc: 0.6987 - val_loss: 0.5608 - val_acc: 0.7110\n",
      "Epoch 17/50\n",
      "100/100 [==============================] - 74s 737ms/step - loss: 0.5658 - acc: 0.6908 - val_loss: 0.5185 - val_acc: 0.7300\n",
      "Epoch 18/50\n",
      "100/100 [==============================] - 83s 825ms/step - loss: 0.5507 - acc: 0.7326 - val_loss: 0.5372 - val_acc: 0.7040\n",
      "Epoch 19/50\n",
      "100/100 [==============================] - 87s 864ms/step - loss: 0.5620 - acc: 0.6933 - val_loss: 0.5509 - val_acc: 0.7210\n",
      "Epoch 20/50\n",
      "100/100 [==============================] - 71s 708ms/step - loss: 0.5322 - acc: 0.7286 - val_loss: 0.5464 - val_acc: 0.7150\n",
      "Epoch 21/50\n",
      "100/100 [==============================] - 71s 708ms/step - loss: 0.5494 - acc: 0.7156 - val_loss: 0.5447 - val_acc: 0.7010\n",
      "Epoch 22/50\n",
      "100/100 [==============================] - 71s 705ms/step - loss: 0.5247 - acc: 0.7276 - val_loss: 0.5170 - val_acc: 0.7290\n",
      "Epoch 23/50\n",
      "100/100 [==============================] - 71s 707ms/step - loss: 0.5378 - acc: 0.7308 - val_loss: 0.4977 - val_acc: 0.7520\n",
      "Epoch 24/50\n",
      "100/100 [==============================] - 72s 716ms/step - loss: 0.5272 - acc: 0.7413 - val_loss: 0.5202 - val_acc: 0.7250\n",
      "Epoch 25/50\n",
      "100/100 [==============================] - 71s 707ms/step - loss: 0.5305 - acc: 0.7208 - val_loss: 0.4959 - val_acc: 0.7450\n",
      "Epoch 26/50\n",
      "100/100 [==============================] - 71s 707ms/step - loss: 0.5209 - acc: 0.7254 - val_loss: 0.4995 - val_acc: 0.7490\n",
      "Epoch 27/50\n",
      "100/100 [==============================] - 71s 710ms/step - loss: 0.5205 - acc: 0.7449 - val_loss: 0.4817 - val_acc: 0.7550\n",
      "Epoch 28/50\n",
      "100/100 [==============================] - 87s 865ms/step - loss: 0.5004 - acc: 0.7511 - val_loss: 0.4737 - val_acc: 0.7720\n",
      "Epoch 29/50\n",
      "100/100 [==============================] - 74s 740ms/step - loss: 0.5028 - acc: 0.7526 - val_loss: 0.4928 - val_acc: 0.7610\n",
      "Epoch 30/50\n",
      "100/100 [==============================] - 72s 714ms/step - loss: 0.5170 - acc: 0.7426 - val_loss: 0.5260 - val_acc: 0.7290\n",
      "Epoch 31/50\n",
      "100/100 [==============================] - 71s 709ms/step - loss: 0.5243 - acc: 0.7358 - val_loss: 0.5272 - val_acc: 0.7380\n",
      "Epoch 32/50\n",
      "100/100 [==============================] - 74s 741ms/step - loss: 0.4969 - acc: 0.7457 - val_loss: 0.5040 - val_acc: 0.7490\n",
      "Epoch 33/50\n",
      "100/100 [==============================] - 74s 741ms/step - loss: 0.5154 - acc: 0.7444 - val_loss: 0.4910 - val_acc: 0.7410\n",
      "Epoch 34/50\n",
      "100/100 [==============================] - 71s 707ms/step - loss: 0.5145 - acc: 0.7333 - val_loss: 0.5289 - val_acc: 0.7310\n",
      "Epoch 35/50\n",
      "100/100 [==============================] - 71s 707ms/step - loss: 0.5236 - acc: 0.7434 - val_loss: 0.5913 - val_acc: 0.7240\n",
      "Epoch 36/50\n",
      "100/100 [==============================] - 71s 712ms/step - loss: 0.4906 - acc: 0.7559 - val_loss: 0.4875 - val_acc: 0.7550\n",
      "Epoch 37/50\n",
      "100/100 [==============================] - 71s 708ms/step - loss: 0.4680 - acc: 0.7718 - val_loss: 0.5003 - val_acc: 0.7560\n",
      "Epoch 38/50\n",
      "100/100 [==============================] - 72s 716ms/step - loss: 0.4919 - acc: 0.7550 - val_loss: 0.4733 - val_acc: 0.7570\n",
      "Epoch 39/50\n",
      "100/100 [==============================] - 74s 734ms/step - loss: 0.4779 - acc: 0.7782 - val_loss: 0.4669 - val_acc: 0.7650\n",
      "Epoch 40/50\n",
      "100/100 [==============================] - 72s 723ms/step - loss: 0.4985 - acc: 0.7634 - val_loss: 0.4668 - val_acc: 0.7690\n",
      "Epoch 41/50\n",
      "100/100 [==============================] - 73s 731ms/step - loss: 0.4888 - acc: 0.7625 - val_loss: 0.5093 - val_acc: 0.7580\n",
      "Epoch 42/50\n",
      "100/100 [==============================] - 72s 719ms/step - loss: 0.4560 - acc: 0.7708 - val_loss: 0.5656 - val_acc: 0.7270\n",
      "Epoch 43/50\n",
      "100/100 [==============================] - 72s 715ms/step - loss: 0.4819 - acc: 0.7695 - val_loss: 0.4651 - val_acc: 0.7780\n",
      "Epoch 44/50\n",
      "100/100 [==============================] - 73s 729ms/step - loss: 0.4524 - acc: 0.7897 - val_loss: 0.4915 - val_acc: 0.7630\n",
      "Epoch 45/50\n",
      "100/100 [==============================] - 75s 746ms/step - loss: 0.4885 - acc: 0.7589 - val_loss: 0.5153 - val_acc: 0.7710\n",
      "Epoch 46/50\n",
      "100/100 [==============================] - 84s 841ms/step - loss: 0.4885 - acc: 0.7744 - val_loss: 0.4640 - val_acc: 0.7670\n",
      "Epoch 47/50\n",
      "100/100 [==============================] - 71s 713ms/step - loss: 0.4658 - acc: 0.7762 - val_loss: 0.4638 - val_acc: 0.7610\n",
      "Epoch 48/50\n",
      "100/100 [==============================] - 71s 712ms/step - loss: 0.4578 - acc: 0.7835 - val_loss: 0.4997 - val_acc: 0.7610\n",
      "Epoch 49/50\n",
      "100/100 [==============================] - 72s 715ms/step - loss: 0.4491 - acc: 0.7990 - val_loss: 0.4481 - val_acc: 0.7830\n",
      "Epoch 50/50\n",
      "100/100 [==============================] - 71s 713ms/step - loss: 0.4264 - acc: 0.8007 - val_loss: 0.4633 - val_acc: 0.7710\n"
     ]
    }
   ],
   "source": [
    "from tensorflow.keras import optimizers\n",
    "from tensorflow.keras.preprocessing.image import ImageDataGenerator\n",
    "from tensorflow.keras import optimizers\n",
    "\n",
    "train_datagen2 = ImageDataGenerator(rescale = 1./255, \n",
    "                                   rotation_range=40, \n",
    "                                   width_shift_range=0.2,\n",
    "                                   height_shift_range=0.2,\n",
    "                                   shear_range=0.2, \n",
    "                                   zoom_range=0.2, \n",
    "                                   horizontal_flip=True\n",
    "                                  )\n",
    "\n",
    "val_datagen2 = ImageDataGenerator(rescale = 1./255) # Do not augment Validation Data.\n",
    "\n",
    "train_generator2 = train_datagen2.flow_from_directory(train_dir, \n",
    "                                                    target_size = (150, 150), \n",
    "                                                    batch_size=20,\n",
    "                                                    class_mode='binary')\n",
    "val_generator2 = val_datagen2.flow_from_directory(val_dir, \n",
    "                                                target_size = (150, 150), \n",
    "                                                batch_size=20,\n",
    "                                                class_mode='binary')\n",
    "\n",
    "\n",
    "model2.compile(loss='binary_crossentropy', optimizer=optimizers.RMSprop(lr=1e-4), metrics=['acc'])\n",
    "\n",
    "history = model2.fit_generator(train_generator2,\n",
    "                               steps_per_epoch=100,\n",
    "                               epochs=50,\n",
    "                               validation_data=val_generator2,\n",
    "                               validation_steps=50)\n",
    "\n"
   ]
  },
  {
   "cell_type": "markdown",
   "id": "pleased-quebec",
   "metadata": {},
   "source": [
    "### 5. LOSS AND VALIDATION CURVES.\n",
    "\n",
    "    Displaying Loss and Accuracy Curves during training.\n",
    "    Close look at the plots you can observe that\n",
    "    \n",
    "    TRAINING ACCURACY INCREASES AND VALIDATION ACCURACY ALSO INCREASES, \n",
    "    TRAINING LOSS DECREASES AND VALIDATION LOSS KEEPS DECREASING\n",
    "    \n",
    "    BOTH TRAINING n VALIDATION LOSS/ACCURACY DECREASE/INCREASE in the same pattern.\n",
    "    \n",
    "    And also we can also see the validation accuracy has increased by around 5% than the \n",
    "    unaugmented and no-dropout layer.\n",
    "    \n",
    "    This plots indicates that Model is overfitting."
   ]
  },
  {
   "cell_type": "code",
   "execution_count": 23,
   "id": "photographic-circumstances",
   "metadata": {},
   "outputs": [
    {
     "data": {
      "text/plain": [
       "<function matplotlib.pyplot.show(close=None, block=None)>"
      ]
     },
     "execution_count": 23,
     "metadata": {},
     "output_type": "execute_result"
    },
    {
     "data": {
      "image/png": "[encoded data removed]",
      "text/plain": [
       "<Figure size 432x288 with 1 Axes>"
      ]
     },
     "metadata": {
      "needs_background": "light"
     },
     "output_type": "display_data"
    },
    {
     "data": {
      "image/png": "[encoded data removed]",
      "text/plain": [
       "<Figure size 432x288 with 1 Axes>"
      ]
     },
     "metadata": {
      "needs_background": "light"
     },
     "output_type": "display_data"
    }
   ],
   "source": [
    "import matplotlib.pyplot as plt\n",
    "\n",
    "acc = history.history['acc']\n",
    "val_acc = history.history['val_acc']\n",
    "loss = history.history['loss']\n",
    "val_loss = history.history['val_loss']\n",
    "\n",
    "epochs = range(1, len(acc) + 1)\n",
    "\n",
    "plt.plot(epochs, acc, 'bo', label='Training acc')\n",
    "plt.plot(epochs, val_acc, 'b', label='Validation acc')\n",
    "plt.title(\"Traininga and Validation Accuracy\")\n",
    "plt.legend()\n",
    "\n",
    "# to plot it in a new figure.\n",
    "plt.figure()\n",
    "\n",
    "plt.plot(epochs, loss, 'bo', label='Training loss')\n",
    "plt.plot(epochs, val_loss, 'b', label='Validation Loss')\n",
    "plt.title(\"Traininga and Validation Loss\")\n",
    "plt.legend()\n",
    "\n",
    "plt.show"
   ]
  },
  {
   "cell_type": "code",
   "execution_count": null,
   "id": "significant-field",
   "metadata": {},
   "outputs": [],
   "source": []
  }
 ],
 "metadata": {
  "kernelspec": {
   "display_name": "Python 3",
   "language": "python",
   "name": "python3"
  },
  "language_info": {
   "codemirror_mode": {
    "name": "ipython",
    "version": 3
   },
   "file_extension": ".py",
   "mimetype": "text/x-python",
   "name": "python",
   "nbconvert_exporter": "python",
   "pygments_lexer": "ipython3",
   "version": "3.8.5"
  }
 },
 "nbformat": 4,
 "nbformat_minor": 5
}
