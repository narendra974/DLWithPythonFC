{
 "cells": [
  {
   "cell_type": "code",
   "execution_count": 1,
   "id": "promising-explorer",
   "metadata": {},
   "outputs": [
    {
     "name": "stdout",
     "output_type": "stream",
     "text": [
      "2.4.1\n"
     ]
    }
   ],
   "source": [
    "import tensorflow as tf\n",
    "try:\n",
    "  # %tensorflow_version only exists in Colab.\n",
    "  %tensorflow_version 2.x\n",
    "except Exception:\n",
    "  pass\n",
    "\n",
    "print(tf.__version__)"
   ]
  },
  {
   "cell_type": "markdown",
   "id": "third-patent",
   "metadata": {},
   "source": [
    "# Section 5.2 in the book 'Deeplearning with Python\" by Francois Challet\n",
    "\n",
    "  1. CONVOLUTION LAYER TO CLASSIFY DOGS VS CATS.\n",
    "  2. DATA AUGMENTATION TECHNIQUE TO OVERCOME OVER-FITTING.\n",
    "  \n",
    "  CATS - DOGS DATA HAS TO BE TAKEN FROM : https://www.kaggle.com/c/dogs-vs-cats \\\n",
    "  data/train/cats - 1000 cat images \\\n",
    "  data/train/dogs - 1000 dog images \\\n",
    "  data/validation/cats - 500 cat images \\\n",
    "  data/validation/dogs - 500 dog images \\\n",
    "  data/test/cats - 500 cat images \\\n",
    "  data/test/dogs - 500 dog images"
   ]
  },
  {
   "cell_type": "code",
   "execution_count": 2,
   "id": "invalid-division",
   "metadata": {},
   "outputs": [
    {
     "name": "stdout",
     "output_type": "stream",
     "text": [
      "Total CAT training images  1000\n",
      "Total DOG training images  1000\n",
      "Total CAT test images  500\n",
      "Total DOG test images  500\n",
      "Total CAT validation images  500\n",
      "Total DOG training images  500\n"
     ]
    }
   ],
   "source": [
    "import os, shutil\n",
    "\n",
    "base_dir = './DATA/CATS_DOGS'\n",
    "\n",
    "train_dir = os.path.join(base_dir, 'train')\n",
    "train_cat_dir = os.path.join(train_dir, 'cats')\n",
    "train_dog_dir = os.path.join(train_dir, 'dogs')\n",
    "test_dir = os.path.join(base_dir, 'test')\n",
    "test_cat_dir = os.path.join(test_dir, 'cats')\n",
    "test_dog_dir = os.path.join(test_dir, 'dogs')\n",
    "val_dir = os.path.join(base_dir, 'validation')\n",
    "val_cat_dir = os.path.join(val_dir, 'cats')\n",
    "val_dog_dir = os.path.join(val_dir, 'dogs')\n",
    "\n",
    "print('Total CAT training images ', len(os.listdir(train_cat_dir)))\n",
    "print('Total DOG training images ' , len(os.listdir(train_dog_dir)))\n",
    "print('Total CAT test images ', len(os.listdir(test_cat_dir)))\n",
    "print('Total DOG test images ' , len(os.listdir(test_dog_dir)))\n",
    "print('Total CAT validation images ' , len(os.listdir(val_cat_dir)))\n",
    "print('Total DOG training images ', len(os.listdir(val_dog_dir)))"
   ]
  },
  {
   "cell_type": "markdown",
   "id": "liable-custom",
   "metadata": {},
   "source": [
    "### 1. CLASSIFICATION CONVOLUTIONAL NETWORK\n",
    "\n",
    "   The Depth of the feature maps progressively increases in the network (from 32 to 128) \\\n",
    "   Where as the size of the feature maps decreases (from 148 X 148 X 7 X 7).\n",
    "   "
   ]
  },
  {
   "cell_type": "code",
   "execution_count": 3,
   "id": "united-liability",
   "metadata": {},
   "outputs": [
    {
     "name": "stdout",
     "output_type": "stream",
     "text": [
      "Model: \"sequential\"\n",
      "_________________________________________________________________\n",
      "Layer (type)                 Output Shape              Param #   \n",
      "=================================================================\n",
      "conv2d (Conv2D)              (None, 148, 148, 32)      896       \n",
      "_________________________________________________________________\n",
      "max_pooling2d (MaxPooling2D) (None, 74, 74, 32)        0         \n",
      "_________________________________________________________________\n",
      "conv2d_1 (Conv2D)            (None, 72, 72, 64)        18496     \n",
      "_________________________________________________________________\n",
      "max_pooling2d_1 (MaxPooling2 (None, 36, 36, 64)        0         \n",
      "_________________________________________________________________\n",
      "conv2d_2 (Conv2D)            (None, 34, 34, 128)       73856     \n",
      "_________________________________________________________________\n",
      "max_pooling2d_2 (MaxPooling2 (None, 17, 17, 128)       0         \n",
      "_________________________________________________________________\n",
      "conv2d_3 (Conv2D)            (None, 15, 15, 128)       147584    \n",
      "_________________________________________________________________\n",
      "max_pooling2d_3 (MaxPooling2 (None, 7, 7, 128)         0         \n",
      "_________________________________________________________________\n",
      "flatten (Flatten)            (None, 6272)              0         \n",
      "_________________________________________________________________\n",
      "dense (Dense)                (None, 512)               3211776   \n",
      "_________________________________________________________________\n",
      "dense_1 (Dense)              (None, 1)                 513       \n",
      "=================================================================\n",
      "Total params: 3,453,121\n",
      "Trainable params: 3,453,121\n",
      "Non-trainable params: 0\n",
      "_________________________________________________________________\n"
     ]
    }
   ],
   "source": [
    "from tensorflow.keras import layers\n",
    "from tensorflow.keras import models\n",
    "\n",
    "model = models.Sequential()\n",
    "model.add(layers.Conv2D(32, (3, 3), activation='relu', input_shape=(150, 150, 3)))\n",
    "model.add(layers.MaxPooling2D((2, 2)))\n",
    "model.add(layers.Conv2D(64, (3, 3), activation='relu'))\n",
    "model.add(layers.MaxPooling2D((2, 2)))\n",
    "model.add(layers.Conv2D(128, (3, 3), activation='relu'))\n",
    "model.add(layers.MaxPooling2D((2, 2)))\n",
    "model.add(layers.Conv2D(128, (3, 3), activation='relu'))\n",
    "model.add(layers.MaxPooling2D((2, 2)))\n",
    "\n",
    "model.add(layers.Flatten())\n",
    "model.add(layers.Dense(512, activation='relu'))\n",
    "model.add(layers.Dense(1, activation='sigmoid'))\n",
    "\n",
    "model.summary()"
   ]
  },
  {
   "cell_type": "markdown",
   "id": "sunrise-drunk",
   "metadata": {},
   "source": [
    "### 2. Configuring the model for Training\n",
    "\n",
    "    1. We shall use the RMSprop Optimizer. \n",
    "    2. We shall use binary cross entropy as the loss.\n",
    "    3. And the learning rate is (lr = 1e-4)\n",
    "    "
   ]
  },
  {
   "cell_type": "code",
   "execution_count": 4,
   "id": "scheduled-panic",
   "metadata": {},
   "outputs": [],
   "source": [
    "from tensorflow.keras import optimizers\n",
    "\n",
    "model.compile(loss='binary_crossentropy', optimizer=optimizers.RMSprop(lr=1e-4), metrics=['acc'])\n"
   ]
  },
  {
   "cell_type": "markdown",
   "id": "single-lighting",
   "metadata": {},
   "source": [
    "### 3. DATA PREPROCESSING OF THE IMAGE FILES.\n",
    "\n",
    "    1. Read the Images Files.\n",
    "    2. Decode the JPEG content to RGB grids of pixels.\n",
    "    3. Convert these into floating-point tensors.\n",
    "    4. Rescale the pixel values (between 0 to 255) to [0, 1] interval.\n",
    "    \n",
    "    All the above functionalities are done by the ImageDataGenerator."
   ]
  },
  {
   "cell_type": "code",
   "execution_count": 5,
   "id": "vulnerable-irish",
   "metadata": {},
   "outputs": [
    {
     "name": "stdout",
     "output_type": "stream",
     "text": [
      "Found 2000 images belonging to 2 classes.\n",
      "Found 1000 images belonging to 2 classes.\n",
      "data batch shape  (20, 150, 150, 3)\n",
      "data labels batch shape  (20,)\n"
     ]
    }
   ],
   "source": [
    "from tensorflow.keras.preprocessing.image import ImageDataGenerator\n",
    "\n",
    "train_datagen = ImageDataGenerator(rescale = 1./255)\n",
    "val_datagen = ImageDataGenerator(rescale = 1./255)\n",
    "\n",
    "train_generator = train_datagen.flow_from_directory(train_dir, target_size = (150, 150), batch_size=20,\n",
    "                                                    class_mode='binary')\n",
    "val_generator = val_datagen.flow_from_directory(val_dir, target_size = (150, 150), batch_size=20,\n",
    "                                                    class_mode='binary')\n",
    "\n",
    "for data_batch, labels_batch in train_generator:\n",
    "    print('data batch shape ', data_batch.shape)\n",
    "    print('data labels batch shape ', labels_batch.shape)\n",
    "    break;"
   ]
  },
  {
   "cell_type": "markdown",
   "id": "metropolitan-contract",
   "metadata": {},
   "source": [
    "### 4. Running the Model. \n",
    "    \n",
    "    Saving the Model using the model.sava function.\n",
    "    One thing to remember is that when we give the steps_per_epoch \n",
    "    and validation_steps, which tells the process how many batches to draw from the\n",
    "    train_generator and validation_generator"
   ]
  },
  {
   "cell_type": "code",
   "execution_count": 10,
   "id": "welsh-oakland",
   "metadata": {
    "scrolled": true
   },
   "outputs": [
    {
     "name": "stdout",
     "output_type": "stream",
     "text": [
      "Epoch 1/30\n",
      "100/100 [==============================] - 71s 708ms/step - loss: 0.6480 - acc: 0.6340 - val_loss: 0.6500 - val_acc: 0.6060\n",
      "Epoch 2/30\n",
      "100/100 [==============================] - 78s 776ms/step - loss: 0.6071 - acc: 0.6830 - val_loss: 0.6033 - val_acc: 0.6890\n",
      "Epoch 3/30\n",
      "100/100 [==============================] - 94s 940ms/step - loss: 0.5683 - acc: 0.7140 - val_loss: 0.5889 - val_acc: 0.6930\n",
      "Epoch 4/30\n",
      "100/100 [==============================] - 93s 925ms/step - loss: 0.5341 - acc: 0.7340 - val_loss: 0.6515 - val_acc: 0.6420\n",
      "Epoch 5/30\n",
      "100/100 [==============================] - 74s 739ms/step - loss: 0.5033 - acc: 0.7475 - val_loss: 0.5502 - val_acc: 0.7220\n",
      "Epoch 6/30\n",
      "100/100 [==============================] - 71s 713ms/step - loss: 0.4750 - acc: 0.7765 - val_loss: 0.5620 - val_acc: 0.7020\n",
      "Epoch 7/30\n",
      "100/100 [==============================] - 79s 790ms/step - loss: 0.4481 - acc: 0.7895 - val_loss: 0.5345 - val_acc: 0.7180\n",
      "Epoch 8/30\n",
      "100/100 [==============================] - 69s 686ms/step - loss: 0.4211 - acc: 0.8060 - val_loss: 0.5295 - val_acc: 0.7420\n",
      "Epoch 9/30\n",
      "100/100 [==============================] - 68s 676ms/step - loss: 0.3989 - acc: 0.8165 - val_loss: 0.6229 - val_acc: 0.6850\n",
      "Epoch 10/30\n",
      "100/100 [==============================] - 75s 753ms/step - loss: 0.3733 - acc: 0.8435 - val_loss: 0.5367 - val_acc: 0.7270\n",
      "Epoch 11/30\n",
      "100/100 [==============================] - 79s 789ms/step - loss: 0.3493 - acc: 0.8495 - val_loss: 0.5419 - val_acc: 0.7430\n",
      "Epoch 12/30\n",
      "100/100 [==============================] - 73s 728ms/step - loss: 0.3241 - acc: 0.8630 - val_loss: 0.6638 - val_acc: 0.6930\n",
      "Epoch 13/30\n",
      "100/100 [==============================] - 78s 780ms/step - loss: 0.2954 - acc: 0.8865 - val_loss: 0.5448 - val_acc: 0.7430\n",
      "Epoch 14/30\n",
      "100/100 [==============================] - 75s 752ms/step - loss: 0.2866 - acc: 0.8745 - val_loss: 0.5792 - val_acc: 0.7260\n",
      "Epoch 15/30\n",
      "100/100 [==============================] - 107s 1s/step - loss: 0.2555 - acc: 0.8935 - val_loss: 0.5939 - val_acc: 0.7510\n",
      "Epoch 16/30\n",
      "100/100 [==============================] - 90s 898ms/step - loss: 0.2381 - acc: 0.9010 - val_loss: 0.6032 - val_acc: 0.7370\n",
      "Epoch 17/30\n",
      "100/100 [==============================] - 68s 677ms/step - loss: 0.2176 - acc: 0.9125 - val_loss: 0.5948 - val_acc: 0.7380\n",
      "Epoch 18/30\n",
      "100/100 [==============================] - 68s 678ms/step - loss: 0.1951 - acc: 0.9330 - val_loss: 0.6229 - val_acc: 0.7340\n",
      "Epoch 19/30\n",
      "100/100 [==============================] - 68s 676ms/step - loss: 0.1791 - acc: 0.9365 - val_loss: 0.6107 - val_acc: 0.7440\n",
      "Epoch 20/30\n",
      "100/100 [==============================] - 68s 678ms/step - loss: 0.1501 - acc: 0.9445 - val_loss: 0.6815 - val_acc: 0.7260\n",
      "Epoch 21/30\n",
      "100/100 [==============================] - 68s 675ms/step - loss: 0.1504 - acc: 0.9435 - val_loss: 0.7240 - val_acc: 0.7310\n",
      "Epoch 22/30\n",
      "100/100 [==============================] - 70s 696ms/step - loss: 0.1234 - acc: 0.9620 - val_loss: 0.6961 - val_acc: 0.7570\n",
      "Epoch 23/30\n",
      "100/100 [==============================] - 68s 680ms/step - loss: 0.1108 - acc: 0.9620 - val_loss: 0.7440 - val_acc: 0.7480\n",
      "Epoch 24/30\n",
      "100/100 [==============================] - 68s 677ms/step - loss: 0.1009 - acc: 0.9660 - val_loss: 0.6906 - val_acc: 0.7560\n",
      "Epoch 25/30\n",
      "100/100 [==============================] - 68s 676ms/step - loss: 0.0909 - acc: 0.9720 - val_loss: 0.7792 - val_acc: 0.7300\n",
      "Epoch 26/30\n",
      "100/100 [==============================] - 70s 697ms/step - loss: 0.0800 - acc: 0.9760 - val_loss: 0.7832 - val_acc: 0.7460\n",
      "Epoch 27/30\n",
      "100/100 [==============================] - 68s 680ms/step - loss: 0.0653 - acc: 0.9785 - val_loss: 0.8139 - val_acc: 0.7400\n",
      "Epoch 28/30\n",
      "100/100 [==============================] - 74s 739ms/step - loss: 0.0514 - acc: 0.9900 - val_loss: 0.9984 - val_acc: 0.7360\n",
      "Epoch 29/30\n",
      "100/100 [==============================] - 69s 689ms/step - loss: 0.0517 - acc: 0.9865 - val_loss: 0.9013 - val_acc: 0.7510\n",
      "Epoch 30/30\n",
      "100/100 [==============================] - 69s 689ms/step - loss: 0.0441 - acc: 0.9885 - val_loss: 0.9113 - val_acc: 0.7460\n"
     ]
    }
   ],
   "source": [
    "history = model.fit_generator(\n",
    "                train_generator, steps_per_epoch=100, epochs=30, \n",
    "                validation_data = val_generator, validation_steps=50)\n",
    "\n",
    "model.save('cats_dogs_small_1.h5')"
   ]
  },
  {
   "cell_type": "code",
   "execution_count": null,
   "id": "female-israeli",
   "metadata": {},
   "outputs": [],
   "source": []
  }
 ],
 "metadata": {
  "kernelspec": {
   "display_name": "Python 3",
   "language": "python",
   "name": "python3"
  },
  "language_info": {
   "codemirror_mode": {
    "name": "ipython",
    "version": 3
   },
   "file_extension": ".py",
   "mimetype": "text/x-python",
   "name": "python",
   "nbconvert_exporter": "python",
   "pygments_lexer": "ipython3",
   "version": "3.8.5"
  }
 },
 "nbformat": 4,
 "nbformat_minor": 5
}
