{
 "cells": [
  {
   "cell_type": "markdown",
   "id": "described-captain",
   "metadata": {},
   "source": [
    "# Section 5.3 in the book 'Deeplearning with Python\" by Francois Challet\n",
    "\n",
    "    Using a Pretraining Convolutional Network.\n",
    "    There are two ways to use a pretrained network, feature extraction and fine-tuning\n",
    "    \n",
    "    ConvolutionModel = BaseModel           +      classifier \n",
    "                       (CNN, MaxPolling)          (Dense Layer before prediction)\n",
    "                       \n",
    "    In a pretraining model we take trained BaseModel as they represent the general features/concepts of an image.\n",
    "    we should avoid taking the classifier because it is specific to the set of the classes model is trained.\n",
    "    "
   ]
  },
  {
   "cell_type": "markdown",
   "id": "expired-letter",
   "metadata": {},
   "source": [
    "### 1. INSTANTIATING VGG16 CONVOLUTIONAL BASE."
   ]
  },
  {
   "cell_type": "code",
   "execution_count": 6,
   "id": "italian-patrol",
   "metadata": {},
   "outputs": [
    {
     "name": "stdout",
     "output_type": "stream",
     "text": [
      "Downloading data from https://storage.googleapis.com/tensorflow/keras-applications/vgg16/vgg16_weights_tf_dim_ordering_tf_kernels_notop.h5\n",
      "58892288/58889256 [==============================] - 10s 0us/step\n",
      "Model: \"vgg16\"\n",
      "_________________________________________________________________\n",
      "Layer (type)                 Output Shape              Param #   \n",
      "=================================================================\n",
      "input_1 (InputLayer)         [(None, 150, 150, 3)]     0         \n",
      "_________________________________________________________________\n",
      "block1_conv1 (Conv2D)        (None, 150, 150, 64)      1792      \n",
      "_________________________________________________________________\n",
      "block1_conv2 (Conv2D)        (None, 150, 150, 64)      36928     \n",
      "_________________________________________________________________\n",
      "block1_pool (MaxPooling2D)   (None, 75, 75, 64)        0         \n",
      "_________________________________________________________________\n",
      "block2_conv1 (Conv2D)        (None, 75, 75, 128)       73856     \n",
      "_________________________________________________________________\n",
      "block2_conv2 (Conv2D)        (None, 75, 75, 128)       147584    \n",
      "_________________________________________________________________\n",
      "block2_pool (MaxPooling2D)   (None, 37, 37, 128)       0         \n",
      "_________________________________________________________________\n",
      "block3_conv1 (Conv2D)        (None, 37, 37, 256)       295168    \n",
      "_________________________________________________________________\n",
      "block3_conv2 (Conv2D)        (None, 37, 37, 256)       590080    \n",
      "_________________________________________________________________\n",
      "block3_conv3 (Conv2D)        (None, 37, 37, 256)       590080    \n",
      "_________________________________________________________________\n",
      "block3_pool (MaxPooling2D)   (None, 18, 18, 256)       0         \n",
      "_________________________________________________________________\n",
      "block4_conv1 (Conv2D)        (None, 18, 18, 512)       1180160   \n",
      "_________________________________________________________________\n",
      "block4_conv2 (Conv2D)        (None, 18, 18, 512)       2359808   \n",
      "_________________________________________________________________\n",
      "block4_conv3 (Conv2D)        (None, 18, 18, 512)       2359808   \n",
      "_________________________________________________________________\n",
      "block4_pool (MaxPooling2D)   (None, 9, 9, 512)         0         \n",
      "_________________________________________________________________\n",
      "block5_conv1 (Conv2D)        (None, 9, 9, 512)         2359808   \n",
      "_________________________________________________________________\n",
      "block5_conv2 (Conv2D)        (None, 9, 9, 512)         2359808   \n",
      "_________________________________________________________________\n",
      "block5_conv3 (Conv2D)        (None, 9, 9, 512)         2359808   \n",
      "_________________________________________________________________\n",
      "block5_pool (MaxPooling2D)   (None, 4, 4, 512)         0         \n",
      "=================================================================\n",
      "Total params: 14,714,688\n",
      "Trainable params: 14,714,688\n",
      "Non-trainable params: 0\n",
      "_________________________________________________________________\n"
     ]
    }
   ],
   "source": [
    "from tensorflow.keras.applications import VGG16\n",
    "\n",
    "conv_base = VGG16(weights='imagenet', include_top=False, input_shape=(150, 150, 3))\n",
    "conv_base.summary()"
   ]
  },
  {
   "cell_type": "markdown",
   "id": "martial-desktop",
   "metadata": {},
   "source": [
    "### 2. INSTANTIATING VGG16 CONVOLUTIONAL BASE.\n",
    "\n",
    "    Extracting features of each image using convolutional base and storing them."
   ]
  },
  {
   "cell_type": "code",
   "execution_count": 16,
   "id": "judicial-database",
   "metadata": {},
   "outputs": [
    {
     "name": "stdout",
     "output_type": "stream",
     "text": [
      "Found 2000 images belonging to 2 classes.\n",
      "Found 1000 images belonging to 2 classes.\n",
      "Found 1000 images belonging to 2 classes.\n"
     ]
    }
   ],
   "source": [
    "import os\n",
    "import numpy as np\n",
    "from tensorflow.keras.preprocessing.image import ImageDataGenerator\n",
    "\n",
    "base_dir = './DATA/CATS_DOGS'\n",
    "\n",
    "train_dir = os.path.join(base_dir, 'train')\n",
    "test_dir = os.path.join(base_dir, 'test')\n",
    "val_dir = os.path.join(base_dir, 'validation')\n",
    "\n",
    "datagen = ImageDataGenerator(rescale = 1./255)\n",
    "batch_count = 20\n",
    "\n",
    "def extract_features(directory, sample_count):\n",
    "    features = np.zeros(shape=(sample_count, 4, 4, 512))\n",
    "    labels = np.zeros(shape=(sample_count))\n",
    "    \n",
    "    generator = datagen.flow_from_directory(\n",
    "                    directory, target_size=(150, 150), batch_size=batch_size, class_mode='binary'\n",
    "                )\n",
    "    i=0\n",
    "    for inputs_batch, labels_batch in generator:\n",
    "        features_batch = conv_base.predict(inputs_batch)\n",
    "        features[i*batch_count : (i+1)*batch_count] = features_batch\n",
    "        labels[i*batch_count : (i+1)*batch_count] = labels_batch\n",
    "        i += 1\n",
    "        if i*batch_count >= sample_count:\n",
    "            break\n",
    "    return features, labels\n",
    "\n",
    "train_features, train_labels = extract_features(train_dir, 2000)\n",
    "train_features = np.reshape(train_features, (2000, 4*4*512))\n",
    "\n",
    "val_features, val_labels = extract_features(val_dir, 1000)\n",
    "val_features = np.reshape(val_features, (1000, 4*4*512))\n",
    "\n",
    "test_features, test_labels = extract_features(test_dir, 1000)\n",
    "test_features = np.reshape(test_features, (1000, 4*4*512))"
   ]
  },
  {
   "cell_type": "markdown",
   "id": "brown-equilibrium",
   "metadata": {},
   "source": [
    "### 2. DENSE CLASSIFIER WITH FEATURES AS INPUT.\n",
    "\n",
    "    Define an dense Layer and train it on the label(features) extracted from the convolutional Base.\n",
    "    we see that we have got an accuracy of 90% \n",
    "    much better than CNN Network with data augmentation and DropOut Layer."
   ]
  },
  {
   "cell_type": "code",
   "execution_count": 20,
   "id": "mineral-invitation",
   "metadata": {},
   "outputs": [
    {
     "name": "stdout",
     "output_type": "stream",
     "text": [
      "Epoch 1/30\n",
      "100/100 [==============================] - 4s 31ms/step - loss: 0.6780 - acc: 0.5880 - val_loss: 0.4562 - val_acc: 0.8230\n",
      "Epoch 2/30\n",
      "100/100 [==============================] - 3s 25ms/step - loss: 0.4743 - acc: 0.7582 - val_loss: 0.3733 - val_acc: 0.8480\n",
      "Epoch 3/30\n",
      "100/100 [==============================] - 3s 26ms/step - loss: 0.3642 - acc: 0.8393 - val_loss: 0.3310 - val_acc: 0.8730\n",
      "Epoch 4/30\n",
      "100/100 [==============================] - 3s 27ms/step - loss: 0.3330 - acc: 0.8622 - val_loss: 0.3071 - val_acc: 0.8720\n",
      "Epoch 5/30\n",
      "100/100 [==============================] - 3s 30ms/step - loss: 0.2799 - acc: 0.8997 - val_loss: 0.3101 - val_acc: 0.8590\n",
      "Epoch 6/30\n",
      "100/100 [==============================] - 3s 28ms/step - loss: 0.2802 - acc: 0.8944 - val_loss: 0.2766 - val_acc: 0.8870\n",
      "Epoch 7/30\n",
      "100/100 [==============================] - 3s 30ms/step - loss: 0.2553 - acc: 0.8994 - val_loss: 0.2674 - val_acc: 0.8870\n",
      "Epoch 8/30\n",
      "100/100 [==============================] - 4s 45ms/step - loss: 0.2390 - acc: 0.9081 - val_loss: 0.2649 - val_acc: 0.8920\n",
      "Epoch 9/30\n",
      "100/100 [==============================] - 4s 39ms/step - loss: 0.2218 - acc: 0.9090 - val_loss: 0.2558 - val_acc: 0.8940\n",
      "Epoch 10/30\n",
      "100/100 [==============================] - 3s 30ms/step - loss: 0.2193 - acc: 0.9082 - val_loss: 0.2504 - val_acc: 0.8980\n",
      "Epoch 11/30\n",
      "100/100 [==============================] - 4s 40ms/step - loss: 0.1997 - acc: 0.9321 - val_loss: 0.2461 - val_acc: 0.9000\n",
      "Epoch 12/30\n",
      "100/100 [==============================] - 3s 34ms/step - loss: 0.1919 - acc: 0.9253 - val_loss: 0.2458 - val_acc: 0.9010\n",
      "Epoch 13/30\n",
      "100/100 [==============================] - 4s 39ms/step - loss: 0.1723 - acc: 0.9376 - val_loss: 0.2417 - val_acc: 0.9030\n",
      "Epoch 14/30\n",
      "100/100 [==============================] - 3s 29ms/step - loss: 0.1802 - acc: 0.9311 - val_loss: 0.2395 - val_acc: 0.9050\n",
      "Epoch 15/30\n",
      "100/100 [==============================] - 3s 34ms/step - loss: 0.1855 - acc: 0.9418 - val_loss: 0.2569 - val_acc: 0.8900\n",
      "Epoch 16/30\n",
      "100/100 [==============================] - 4s 43ms/step - loss: 0.1551 - acc: 0.9432 - val_loss: 0.2415 - val_acc: 0.9000\n",
      "Epoch 17/30\n",
      "100/100 [==============================] - 5s 47ms/step - loss: 0.1531 - acc: 0.9524 - val_loss: 0.2444 - val_acc: 0.8990\n",
      "Epoch 18/30\n",
      "100/100 [==============================] - 5s 48ms/step - loss: 0.1355 - acc: 0.9489 - val_loss: 0.2345 - val_acc: 0.9100\n",
      "Epoch 19/30\n",
      "100/100 [==============================] - 4s 40ms/step - loss: 0.1408 - acc: 0.9509 - val_loss: 0.2336 - val_acc: 0.9050\n",
      "Epoch 20/30\n",
      "100/100 [==============================] - 3s 28ms/step - loss: 0.1339 - acc: 0.9544 - val_loss: 0.2341 - val_acc: 0.9080\n",
      "Epoch 21/30\n",
      "100/100 [==============================] - 3s 28ms/step - loss: 0.1240 - acc: 0.9609 - val_loss: 0.2349 - val_acc: 0.9050\n",
      "Epoch 22/30\n",
      "100/100 [==============================] - 3s 29ms/step - loss: 0.1092 - acc: 0.9672 - val_loss: 0.2379 - val_acc: 0.9010\n",
      "Epoch 23/30\n",
      "100/100 [==============================] - 3s 29ms/step - loss: 0.1127 - acc: 0.9659 - val_loss: 0.2359 - val_acc: 0.9040\n",
      "Epoch 24/30\n",
      "100/100 [==============================] - 3s 30ms/step - loss: 0.1013 - acc: 0.9703 - val_loss: 0.2337 - val_acc: 0.9090\n",
      "Epoch 25/30\n",
      "100/100 [==============================] - 3s 29ms/step - loss: 0.1041 - acc: 0.9617 - val_loss: 0.2346 - val_acc: 0.9080\n",
      "Epoch 26/30\n",
      "100/100 [==============================] - 3s 31ms/step - loss: 0.1052 - acc: 0.9591 - val_loss: 0.2352 - val_acc: 0.9050\n",
      "Epoch 27/30\n",
      "100/100 [==============================] - 3s 30ms/step - loss: 0.0982 - acc: 0.9677 - val_loss: 0.2348 - val_acc: 0.9070\n",
      "Epoch 28/30\n",
      "100/100 [==============================] - 3s 30ms/step - loss: 0.0859 - acc: 0.9762 - val_loss: 0.2390 - val_acc: 0.9030\n",
      "Epoch 29/30\n",
      "100/100 [==============================] - 3s 30ms/step - loss: 0.0878 - acc: 0.9776 - val_loss: 0.2365 - val_acc: 0.9080\n",
      "Epoch 30/30\n",
      "100/100 [==============================] - 3s 30ms/step - loss: 0.0832 - acc: 0.9820 - val_loss: 0.2393 - val_acc: 0.9080\n"
     ]
    }
   ],
   "source": [
    "from tensorflow.keras import models\n",
    "from tensorflow.keras import layers\n",
    "from tensorflow.keras import optimizers\n",
    "\n",
    "model = models.Sequential()\n",
    "model.add(layers.Dense(256, activation='relu', input_dim=4*4*512))\n",
    "model.add(layers.Dropout(0.5))\n",
    "model.add(layers.Dense(1, activation='sigmoid'))\n",
    "\n",
    "model.compile(optimizer=optimizers.RMSprop(lr=2e-5),\n",
    "              loss='binary_crossentropy', metrics=['acc'])\n",
    "\n",
    "history = model.fit(train_features, train_labels, epochs=30,\n",
    "                   batch_size=20, validation_data=(val_features, val_labels))\n"
   ]
  },
  {
   "cell_type": "code",
   "execution_count": 21,
   "id": "smart-patent",
   "metadata": {},
   "outputs": [
    {
     "data": {
      "text/plain": [
       "<function matplotlib.pyplot.show(close=None, block=None)>"
      ]
     },
     "execution_count": 21,
     "metadata": {},
     "output_type": "execute_result"
    },
    {
     "data": {
      "image/png": "[encoded data removed]",
      "text/plain": [
       "<Figure size 432x288 with 1 Axes>"
      ]
     },
     "metadata": {
      "needs_background": "light"
     },
     "output_type": "display_data"
    },
    {
     "data": {
      "image/png": "[encoded data removed]",
      "text/plain": [
       "<Figure size 432x288 with 1 Axes>"
      ]
     },
     "metadata": {
      "needs_background": "light"
     },
     "output_type": "display_data"
    }
   ],
   "source": [
    "import matplotlib.pyplot as plt\n",
    "\n",
    "acc = history.history['acc']\n",
    "val_acc = history.history['val_acc']\n",
    "loss = history.history['loss']\n",
    "val_loss = history.history['val_loss']\n",
    "\n",
    "epochs = range(1, len(acc) + 1)\n",
    "\n",
    "plt.plot(epochs, acc, 'bo', label='Training acc')\n",
    "plt.plot(epochs, val_acc, 'b', label='Validation acc')\n",
    "plt.title(\"Traininga and Validation Accuracy\")\n",
    "plt.legend()\n",
    "\n",
    "# to plot it in a new figure.\n",
    "plt.figure()\n",
    "\n",
    "plt.plot(epochs, loss, 'bo', label='Training loss')\n",
    "plt.plot(epochs, val_loss, 'b', label='Validation Loss')\n",
    "plt.title(\"Traininga and Validation Loss\")\n",
    "plt.legend()\n",
    "\n",
    "plt.show"
   ]
  },
  {
   "cell_type": "markdown",
   "id": "packed-macro",
   "metadata": {},
   "source": [
    "### 3. FEATURE EXTRACTION WITH DATA AUGMENTATION.\n",
    "\n",
    "    They are two ways of achieveing this,\n",
    "    1. TRAIN THE COMPLETE MODEL -> CONV BASE (VGG16) + DENSE LAYER ->\n",
    "    2. TRAIN ONLY the DENSE LAYER by freezing the CONVBASE LAYER.\n",
    "    \n",
    "    Below shows the model and freezing of CONV_BASE for training."
   ]
  },
  {
   "cell_type": "code",
   "execution_count": 27,
   "id": "suspended-stanford",
   "metadata": {},
   "outputs": [
    {
     "name": "stdout",
     "output_type": "stream",
     "text": [
      "Model: \"vgg16\"\n",
      "_________________________________________________________________\n",
      "Layer (type)                 Output Shape              Param #   \n",
      "=================================================================\n",
      "input_2 (InputLayer)         [(None, 150, 150, 3)]     0         \n",
      "_________________________________________________________________\n",
      "block1_conv1 (Conv2D)        (None, 150, 150, 64)      1792      \n",
      "_________________________________________________________________\n",
      "block1_conv2 (Conv2D)        (None, 150, 150, 64)      36928     \n",
      "_________________________________________________________________\n",
      "block1_pool (MaxPooling2D)   (None, 75, 75, 64)        0         \n",
      "_________________________________________________________________\n",
      "block2_conv1 (Conv2D)        (None, 75, 75, 128)       73856     \n",
      "_________________________________________________________________\n",
      "block2_conv2 (Conv2D)        (None, 75, 75, 128)       147584    \n",
      "_________________________________________________________________\n",
      "block2_pool (MaxPooling2D)   (None, 37, 37, 128)       0         \n",
      "_________________________________________________________________\n",
      "block3_conv1 (Conv2D)        (None, 37, 37, 256)       295168    \n",
      "_________________________________________________________________\n",
      "block3_conv2 (Conv2D)        (None, 37, 37, 256)       590080    \n",
      "_________________________________________________________________\n",
      "block3_conv3 (Conv2D)        (None, 37, 37, 256)       590080    \n",
      "_________________________________________________________________\n",
      "block3_pool (MaxPooling2D)   (None, 18, 18, 256)       0         \n",
      "_________________________________________________________________\n",
      "block4_conv1 (Conv2D)        (None, 18, 18, 512)       1180160   \n",
      "_________________________________________________________________\n",
      "block4_conv2 (Conv2D)        (None, 18, 18, 512)       2359808   \n",
      "_________________________________________________________________\n",
      "block4_conv3 (Conv2D)        (None, 18, 18, 512)       2359808   \n",
      "_________________________________________________________________\n",
      "block4_pool (MaxPooling2D)   (None, 9, 9, 512)         0         \n",
      "_________________________________________________________________\n",
      "block5_conv1 (Conv2D)        (None, 9, 9, 512)         2359808   \n",
      "_________________________________________________________________\n",
      "block5_conv2 (Conv2D)        (None, 9, 9, 512)         2359808   \n",
      "_________________________________________________________________\n",
      "block5_conv3 (Conv2D)        (None, 9, 9, 512)         2359808   \n",
      "_________________________________________________________________\n",
      "block5_pool (MaxPooling2D)   (None, 4, 4, 512)         0         \n",
      "=================================================================\n",
      "Total params: 14,714,688\n",
      "Trainable params: 14,714,688\n",
      "Non-trainable params: 0\n",
      "_________________________________________________________________\n",
      "Model: \"sequential_8\"\n",
      "_________________________________________________________________\n",
      "Layer (type)                 Output Shape              Param #   \n",
      "=================================================================\n",
      "vgg16 (Functional)           (None, 4, 4, 512)         14714688  \n",
      "_________________________________________________________________\n",
      "flatten_5 (Flatten)          (None, 8192)              0         \n",
      "_________________________________________________________________\n",
      "dense_14 (Dense)             (None, 256)               2097408   \n",
      "_________________________________________________________________\n",
      "dense_15 (Dense)             (None, 1)                 257       \n",
      "=================================================================\n",
      "Total params: 16,812,353\n",
      "Trainable params: 16,812,353\n",
      "Non-trainable params: 0\n",
      "_________________________________________________________________\n",
      "30\n",
      "4\n"
     ]
    }
   ],
   "source": [
    "from tensorflow.keras import models\n",
    "from tensorflow.keras import layers\n",
    "from tensorflow.keras.applications import VGG16\n",
    "\n",
    "conv_base2= VGG16(weights='imagenet', include_top=False, input_shape=(150, 150, 3))\n",
    "conv_base2.summary()\n",
    "\n",
    "model2 = models.Sequential()\n",
    "model2.add(conv_base2)\n",
    "model2.add(layers.Flatten())\n",
    "model2.add(layers.Dense(256, activation='relu'))\n",
    "model2.add(layers.Dense(1, activation='sigmoid'))\n",
    "\n",
    "model2.summary()\n",
    "\n",
    "\n",
    "print(len(model2.trainable_weights))\n",
    "conv_base2.trainable=False\n",
    "print(len(model2.trainable_weights))"
   ]
  },
  {
   "cell_type": "markdown",
   "id": "related-energy",
   "metadata": {},
   "source": [
    "### 4. TRAIN THE MODEL ON AUGMENTED DATA."
   ]
  },
  {
   "cell_type": "code",
   "execution_count": null,
   "id": "modern-balloon",
   "metadata": {},
   "outputs": [
    {
     "name": "stdout",
     "output_type": "stream",
     "text": [
      "Found 2000 images belonging to 2 classes.\n",
      "Found 1000 images belonging to 2 classes.\n"
     ]
    },
    {
     "name": "stderr",
     "output_type": "stream",
     "text": [
      "/Users/narendra/opt/anaconda3/envs/DeepLearning/lib/python3.8/site-packages/tensorflow/python/keras/engine/training.py:1844: UserWarning: `Model.fit_generator` is deprecated and will be removed in a future version. Please use `Model.fit`, which supports generators.\n",
      "  warnings.warn('`Model.fit_generator` is deprecated and '\n"
     ]
    },
    {
     "name": "stdout",
     "output_type": "stream",
     "text": [
      "Epoch 1/50\n",
      "100/100 [==============================] - 401s 4s/step - loss: 0.6050 - acc: 0.6638 - val_loss: 0.3167 - val_acc: 0.8670\n",
      "Epoch 2/50\n",
      "100/100 [==============================] - 421s 4s/step - loss: 0.4394 - acc: 0.7901 - val_loss: 0.2903 - val_acc: 0.8730\n",
      "Epoch 3/50\n",
      "100/100 [==============================] - 371s 4s/step - loss: 0.3798 - acc: 0.8286 - val_loss: 0.2864 - val_acc: 0.8740\n",
      "Epoch 4/50\n",
      "100/100 [==============================] - 360s 4s/step - loss: 0.3756 - acc: 0.8202 - val_loss: 0.2571 - val_acc: 0.8920\n",
      "Epoch 5/50\n",
      "100/100 [==============================] - 361s 4s/step - loss: 0.3608 - acc: 0.8486 - val_loss: 0.3231 - val_acc: 0.8510\n",
      "Epoch 6/50\n",
      "100/100 [==============================] - 30511s 308s/step - loss: 0.3338 - acc: 0.8451 - val_loss: 0.2527 - val_acc: 0.9040\n",
      "Epoch 7/50\n",
      "100/100 [==============================] - 495s 5s/step - loss: 0.3355 - acc: 0.8523 - val_loss: 0.4762 - val_acc: 0.7940\n",
      "Epoch 8/50\n",
      "100/100 [==============================] - 482s 5s/step - loss: 0.3350 - acc: 0.8431 - val_loss: 0.2507 - val_acc: 0.8960\n",
      "Epoch 9/50\n",
      "100/100 [==============================] - 458s 5s/step - loss: 0.3223 - acc: 0.8605 - val_loss: 0.2411 - val_acc: 0.9020\n",
      "Epoch 10/50\n",
      "100/100 [==============================] - 516s 5s/step - loss: 0.3205 - acc: 0.8585 - val_loss: 0.2625 - val_acc: 0.8960\n",
      "Epoch 11/50\n",
      "100/100 [==============================] - 526s 5s/step - loss: 0.3053 - acc: 0.8595 - val_loss: 0.3104 - val_acc: 0.8810\n",
      "Epoch 12/50\n",
      "100/100 [==============================] - 410s 4s/step - loss: 0.2970 - acc: 0.8739 - val_loss: 0.3223 - val_acc: 0.8590\n",
      "Epoch 13/50\n",
      "100/100 [==============================] - 372s 4s/step - loss: 0.2792 - acc: 0.8713 - val_loss: 0.2483 - val_acc: 0.9020\n",
      "Epoch 14/50\n",
      "100/100 [==============================] - 391s 4s/step - loss: 0.2731 - acc: 0.8790 - val_loss: 0.2511 - val_acc: 0.9030\n",
      "Epoch 15/50\n",
      "100/100 [==============================] - 452s 5s/step - loss: 0.2712 - acc: 0.8751 - val_loss: 0.2881 - val_acc: 0.8820\n",
      "Epoch 16/50\n",
      "100/100 [==============================] - 463s 5s/step - loss: 0.2971 - acc: 0.8632 - val_loss: 0.2579 - val_acc: 0.8910\n",
      "Epoch 17/50\n",
      "100/100 [==============================] - 402s 4s/step - loss: 0.3050 - acc: 0.8611 - val_loss: 0.3095 - val_acc: 0.8740\n",
      "Epoch 18/50\n",
      "100/100 [==============================] - 10353s 105s/step - loss: 0.2678 - acc: 0.8740 - val_loss: 0.2597 - val_acc: 0.8970\n",
      "Epoch 19/50\n",
      " 55/100 [===============>..............] - ETA: 4:43:30 - loss: 0.2692 - acc: 0.8806"
     ]
    }
   ],
   "source": [
    "from tensorflow.keras import optimizers\n",
    "from tensorflow.keras.preprocessing.image import ImageDataGenerator\n",
    "from tensorflow.keras import optimizers\n",
    "\n",
    "train_datagen2 = ImageDataGenerator(rescale = 1./255, \n",
    "                                   rotation_range=40, \n",
    "                                   width_shift_range=0.2,\n",
    "                                   height_shift_range=0.2,\n",
    "                                   shear_range=0.2, \n",
    "                                   zoom_range=0.2, \n",
    "                                   horizontal_flip=True\n",
    "                                  )\n",
    "\n",
    "val_datagen2 = ImageDataGenerator(rescale = 1./255) # Do not augment Validation Data.\n",
    "\n",
    "train_generator2 = train_datagen2.flow_from_directory(train_dir, \n",
    "                                                    target_size = (150, 150), \n",
    "                                                    batch_size=20,\n",
    "                                                    class_mode='binary')\n",
    "val_generator2 = val_datagen2.flow_from_directory(val_dir, \n",
    "                                                target_size = (150, 150), \n",
    "                                                batch_size=20,\n",
    "                                                class_mode='binary')\n",
    "\n",
    "\n",
    "model2.compile(loss='binary_crossentropy', optimizer=optimizers.RMSprop(lr=1e-4), metrics=['acc'])\n",
    "\n",
    "history = model2.fit_generator(train_generator2,\n",
    "                               steps_per_epoch=100,\n",
    "                               epochs=30,\n",
    "                               validation_data=val_generator2,\n",
    "                               validation_steps=50)"
   ]
  },
  {
   "cell_type": "code",
   "execution_count": null,
   "id": "stuck-warrant",
   "metadata": {},
   "outputs": [],
   "source": []
  }
 ],
 "metadata": {
  "kernelspec": {
   "display_name": "Python 3",
   "language": "python",
   "name": "python3"
  },
  "language_info": {
   "codemirror_mode": {
    "name": "ipython",
    "version": 3
   },
   "file_extension": ".py",
   "mimetype": "text/x-python",
   "name": "python",
   "nbconvert_exporter": "python",
   "pygments_lexer": "ipython3",
   "version": "3.8.5"
  }
 },
 "nbformat": 4,
 "nbformat_minor": 5
}
