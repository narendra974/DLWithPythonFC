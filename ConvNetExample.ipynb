{
 "cells": [
  {
   "cell_type": "markdown",
   "id": "collectible-transcript",
   "metadata": {},
   "source": [
    "# This Notebook refers to Section 5.2 in 'Deeplearning with Python Book\"\n",
    "   Data Augmentation (powerful technique to mitigate Overfitting)"
   ]
  },
  {
   "cell_type": "markdown",
   "id": "greek-static",
   "metadata": {},
   "source": [
    "### 1. Model Convolutional Network\n",
    "\n",
    "   Convnet taks input tensor of shape (image_height, image_width, number_channel) as input. \\\n",
    "   MNIST Images are of the shape (28, 28) so we reshape them to (28, 28, 1) \\\n",
    "   output of every convnet and MaxPooling is a 3D tensor of shape (height, width, channels) \\\n",
    "   number_channel is controlled by the number of filters in the Conv2D Layer."
   ]
  },
  {
   "cell_type": "code",
   "execution_count": 4,
   "id": "thick-chosen",
   "metadata": {},
   "outputs": [
    {
     "name": "stdout",
     "output_type": "stream",
     "text": [
      "Model: \"sequential_1\"\n",
      "_________________________________________________________________\n",
      "Layer (type)                 Output Shape              Param #   \n",
      "=================================================================\n",
      "conv2d_3 (Conv2D)            (None, 26, 26, 32)        320       \n",
      "_________________________________________________________________\n",
      "max_pooling2d_2 (MaxPooling2 (None, 13, 13, 32)        0         \n",
      "_________________________________________________________________\n",
      "conv2d_4 (Conv2D)            (None, 11, 11, 64)        18496     \n",
      "_________________________________________________________________\n",
      "max_pooling2d_3 (MaxPooling2 (None, 5, 5, 64)          0         \n",
      "_________________________________________________________________\n",
      "conv2d_5 (Conv2D)            (None, 3, 3, 64)          36928     \n",
      "_________________________________________________________________\n",
      "flatten (Flatten)            (None, 576)               0         \n",
      "_________________________________________________________________\n",
      "dense (Dense)                (None, 64)                36928     \n",
      "_________________________________________________________________\n",
      "dense_1 (Dense)              (None, 10)                650       \n",
      "=================================================================\n",
      "Total params: 93,322\n",
      "Trainable params: 93,322\n",
      "Non-trainable params: 0\n",
      "_________________________________________________________________\n"
     ]
    }
   ],
   "source": [
    "import tensorflow as tf\n",
    "from tensorflow.keras import layers\n",
    "from tensorflow.keras import models\n",
    "\n",
    "model = models.Sequential()\n",
    "model.add(layers.Conv2D(32, (3, 3), activation='relu', input_shape=(28, 28, 1)))\n",
    "model.add(layers.MaxPooling2D((2, 2)))\n",
    "model.add(layers.Conv2D(64, (3,3), activation='relu'))\n",
    "model.add(layers.MaxPooling2D(2,2))\n",
    "model.add(layers.Conv2D(64, (3, 3), activation='relu'))\n",
    "\n",
    "model.add(layers.Flatten())\n",
    "model.add(layers.Dense(64, activation='relu'))\n",
    "model.add(layers.Dense(10, activation='softmax'))\n",
    "model.summary()"
   ]
  },
  {
   "cell_type": "markdown",
   "id": "charming-anime",
   "metadata": {},
   "source": [
    "### 2. Training the ConvNet on MNIST Images.\n",
    "\n",
    "    Dense Layers learn Gloabal Patterns. \n",
    "    Convolution Layers learn Local Patterns. \n",
    "    \n",
    "    KeyCharacteristics of the Convolutional Layers.\n",
    "    1. Patterns they learn are translational - invariant.\n",
    "        After learning a pattern at one location, same pattern can be identified\n",
    "        by the conv layer anywhere in the image\n",
    "    2. They can learn spatial hierarchial of patterns. \n",
    "        Initial Layers learn the Edges, Texture and other properties.\n",
    "        Higher Layers learn the ear shape, eye shape and all.\n",
    "        \n",
    "    ConvLayer operates over 3D tensor called 'FEATURE' maps, \n",
    "    with two 'SPATIAL' axes (height and width) and one 'CHANNEL' axis.\n",
    "    \n",
    "    Convolution takes a feature map and gives a feature map with \n",
    "    channel axis represent number of filters in the convolutional Layer. \n",
    "    \n",
    "    RESPONSE MAP : 2D map of the presence of a pattern at different locations of a map.\n",
    "    FEATURE MAP : every dimension in the depth axis is a feature map. \n",
    "    2D tensor outpur[:, :, n] is the 2D SPATIAL MAP of the response of this filter over the input.\n",
    "    \n",
    "    "
   ]
  },
  {
   "cell_type": "code",
   "execution_count": 9,
   "id": "intellectual-singer",
   "metadata": {},
   "outputs": [
    {
     "name": "stdout",
     "output_type": "stream",
     "text": [
      "(60000, 28, 28)\n",
      "(60000,)\n",
      "(10000, 28, 28)\n",
      "(60000,)\n",
      "Epoch 1/5\n",
      "938/938 [==============================] - 38s 40ms/step - loss: 0.4132 - accuracy: 0.8690\n",
      "Epoch 2/5\n",
      "938/938 [==============================] - 41s 44ms/step - loss: 0.0518 - accuracy: 0.9836\n",
      "Epoch 3/5\n",
      "938/938 [==============================] - 37s 40ms/step - loss: 0.0334 - accuracy: 0.9895\n",
      "Epoch 4/5\n",
      "938/938 [==============================] - 37s 39ms/step - loss: 0.0236 - accuracy: 0.9929\n",
      "Epoch 5/5\n",
      "938/938 [==============================] - 37s 40ms/step - loss: 0.0192 - accuracy: 0.9936\n"
     ]
    },
    {
     "data": {
      "text/plain": [
       "<tensorflow.python.keras.callbacks.History at 0x7f87282772e0>"
      ]
     },
     "execution_count": 9,
     "metadata": {},
     "output_type": "execute_result"
    }
   ],
   "source": [
    "from tensorflow.keras.datasets import mnist\n",
    "from tensorflow.keras.utils import to_categorical\n",
    "\n",
    "(train_images, train_labels), (test_images, test_labels) = mnist.load_data()\n",
    "\n",
    "print(train_images.shape)\n",
    "print(train_labels.shape)\n",
    "print(test_images.shape)\n",
    "print(train_labels.shape)\n",
    "\n",
    "train_images = train_images.reshape((60000, 28, 28, 1))\n",
    "train_images = train_images.astype('float32') / 255\n",
    "\n",
    "test_images = test_images.reshape((10000, 28, 28, 1))\n",
    "test_images = test_images.astype('float32') / 255\n",
    "\n",
    "train_labels = to_categorical(train_labels)\n",
    "test_labels = to_categorical(test_labels)\n",
    "\n",
    "model.compile(optimizer='rmsprop', loss='categorical_crossentropy', \n",
    "            metrics=['accuracy'])\n",
    "model.fit(train_images, train_labels, epochs=5, batch_size=64)"
   ]
  },
  {
   "cell_type": "code",
   "execution_count": null,
   "id": "vietnamese-clearing",
   "metadata": {},
   "outputs": [],
   "source": []
  }
 ],
 "metadata": {
  "kernelspec": {
   "display_name": "Python 3",
   "language": "python",
   "name": "python3"
  },
  "language_info": {
   "codemirror_mode": {
    "name": "ipython",
    "version": 3
   },
   "file_extension": ".py",
   "mimetype": "text/x-python",
   "name": "python",
   "nbconvert_exporter": "python",
   "pygments_lexer": "ipython3",
   "version": "3.8.5"
  }
 },
 "nbformat": 4,
 "nbformat_minor": 5
}
